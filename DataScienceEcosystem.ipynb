{
 "cells": [
  {
   "cell_type": "markdown",
   "id": "50b6a98a-16f0-488f-bd42-b792538b1b68",
   "metadata": {},
   "source": [
    "# Data Science and Ecosystem"
   ]
  },
  {
   "cell_type": "markdown",
   "id": "0c134407-9202-4ca0-badb-28291494ed63",
   "metadata": {},
   "source": [
    "# In this notebook, Data Science tools and ecosystem are summarised\n"
   ]
  },
  {
   "cell_type": "markdown",
   "id": "bf53b633-dc53-4292-8fc8-9e82c77fad62",
   "metadata": {},
   "source": [
    "# some of the popular languages that Data Scientists use are:\n",
    "1. Python\n",
    "2. R\n",
    "3. SQL\n",
    "4. Julia"
   ]
  },
  {
   "cell_type": "markdown",
   "id": "5ac27c5e-6ac6-4a45-984f-e60b270a1eaf",
   "metadata": {},
   "source": [
    "## some of the commonly used libraries by Data Scientists are:\n",
    "1. Pandas\n",
    "2. Numpy\n",
    "3. Matplotlib\n",
    "4. Scikit-learn"
   ]
  },
  {
   "cell_type": "markdown",
   "id": "fc468bd1-22a8-42f6-af67-372aa7fa16fa",
   "metadata": {},
   "source": [
    "**Objectives:**\n",
    "\n",
    "- List popular languages for Data Science\n",
    "- List commonly used libraries for Data Science\n",
    "- Create tables in Markdown\n",
    "- Perform basic arithmetic operations in Python\n",
    "- Convert minutes to hours using Python\n"
   ]
  },
  {
   "cell_type": "markdown",
   "id": "d5d65c87-acf2-4afa-a78c-b5d71642d58e",
   "metadata": {},
   "source": [
    "| Data Science Tools |\n",
    "|--------------------|\n",
    "| Jupyter Notebook   |\n",
    "| RStudio            |\n",
    "| Apache Zeppelin    |\n"
   ]
  },
  {
   "cell_type": "markdown",
   "id": "d78cbb2f-653a-4d4e-b643-40f5e0983b44",
   "metadata": {},
   "source": [
    "### Below are few examples for evaluating arithematic expressions"
   ]
  },
  {
   "cell_type": "code",
   "execution_count": 2,
   "id": "738cd9c8-e459-4a75-baa6-036c45603b6d",
   "metadata": {},
   "outputs": [
    {
     "data": {
      "text/plain": [
       "17"
      ]
     },
     "execution_count": 2,
     "metadata": {},
     "output_type": "execute_result"
    }
   ],
   "source": [
    "# this is a simple arithematic expression which first multiplies and then add \n",
    "(3*4)+5"
   ]
  },
  {
   "cell_type": "code",
   "execution_count": 3,
   "id": "310d4cce-829d-48dd-aca0-21bfc7ec0d18",
   "metadata": {},
   "outputs": [
    {
     "data": {
      "text/plain": [
       "3.3333333333333335"
      ]
     },
     "execution_count": 3,
     "metadata": {},
     "output_type": "execute_result"
    }
   ],
   "source": [
    "# This will convert 200 minutes to hours by dividing by 60\n",
    "200 / 60\n"
   ]
  },
  {
   "cell_type": "markdown",
   "id": "7ef97194-0ea5-4e98-86fb-f7ca5bb4f52c",
   "metadata": {},
   "source": [
    "## Author\n",
    "Chandan U Achar\n"
   ]
  },
  {
   "cell_type": "code",
   "execution_count": null,
   "id": "0aafdcd5-b076-4e4f-88d7-a10b104efa49",
   "metadata": {},
   "outputs": [],
   "source": []
  }
 ],
 "metadata": {
  "kernelspec": {
   "display_name": "Python 3 (ipykernel)",
   "language": "python",
   "name": "python3"
  },
  "language_info": {
   "codemirror_mode": {
    "name": "ipython",
    "version": 3
   },
   "file_extension": ".py",
   "mimetype": "text/x-python",
   "name": "python",
   "nbconvert_exporter": "python",
   "pygments_lexer": "ipython3",
   "version": "3.13.5"
  }
 },
 "nbformat": 4,
 "nbformat_minor": 5
}
